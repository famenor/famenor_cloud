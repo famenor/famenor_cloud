{
 "cells": [
  {
   "cell_type": "code",
   "execution_count": 1,
   "id": "optimum-greece",
   "metadata": {},
   "outputs": [],
   "source": [
    "import os\n",
    "os.environ['GOOGLE_APPLICATION_CREDENTIALS'] = '/home/ec2-user/dsdemo.json'"
   ]
  },
  {
   "cell_type": "markdown",
   "id": "hundred-telephone",
   "metadata": {},
   "source": [
    "# Create new bucket"
   ]
  },
  {
   "cell_type": "code",
   "execution_count": 4,
   "id": "sporting-tiffany",
   "metadata": {},
   "outputs": [
    {
     "name": "stdout",
     "output_type": "stream",
     "text": [
      "dsp_model_store_famenor\n",
      "gcf-sources-137490687386-us-central1\n",
      "us.artifacts.formal-air-308518.appspot.com\n"
     ]
    }
   ],
   "source": [
    "from google.cloud import storage\n",
    "bucket_name = 'dsp_model_store_famenor'\n",
    "\n",
    "storage_client = storage.Client()\n",
    "storage_client.create_bucket(bucket_name)\n",
    "\n",
    "for bucket in storage_client.list_buckets():\n",
    "    print(bucket.name)"
   ]
  },
  {
   "cell_type": "markdown",
   "id": "removed-avenue",
   "metadata": {},
   "source": [
    "# Upload PKL"
   ]
  },
  {
   "cell_type": "code",
   "execution_count": 5,
   "id": "resistant-genius",
   "metadata": {},
   "outputs": [],
   "source": [
    "from google.cloud import storage\n",
    "\n",
    "bucket_name = 'dsp_model_store_famenor'\n",
    "storage_client = storage.Client()\n",
    "bucket = storage_client.get_bucket(bucket_name)\n",
    "\n",
    "blob = bucket.blob('serverless/logit/v1')\n",
    "blob.upload_from_filename('logit.pkl')"
   ]
  },
  {
   "cell_type": "code",
   "execution_count": 2,
   "id": "industrial-venture",
   "metadata": {},
   "outputs": [],
   "source": [
    "from google.cloud import storage\n",
    "\n",
    "bucket_name = 'dsp_model_store_famenor'\n",
    "storage_client = storage.Client()\n",
    "bucket = storage_client.get_bucket(bucket_name)\n",
    "\n",
    "blob = bucket.blob('serverless/keras/v1')\n",
    "blob.upload_from_filename('games.h5')"
   ]
  },
  {
   "cell_type": "markdown",
   "id": "proprietary-simple",
   "metadata": {},
   "source": [
    "# Download PKL"
   ]
  },
  {
   "cell_type": "code",
   "execution_count": 6,
   "id": "fleet-explosion",
   "metadata": {},
   "outputs": [
    {
     "data": {
      "text/plain": [
       "LogisticRegression()"
      ]
     },
     "execution_count": 6,
     "metadata": {},
     "output_type": "execute_result"
    }
   ],
   "source": [
    "import pickle\n",
    "from google.cloud import storage\n",
    "\n",
    "bucket_name = 'dsp_model_store_famenor'\n",
    "storage_client = storage.Client()\n",
    "bucket = storage_client.get_bucket(bucket_name)\n",
    "\n",
    "blob = bucket.blob('serverless/logit/v1')\n",
    "blob.download_to_filename('local_logit.pkl')\n",
    "model = pickle.load(open('local_logit.pkl', 'rb'))\n",
    "\n",
    "model"
   ]
  },
  {
   "cell_type": "code",
   "execution_count": null,
   "id": "concerned-cycling",
   "metadata": {},
   "outputs": [],
   "source": []
  }
 ],
 "metadata": {
  "kernelspec": {
   "display_name": "Python 3",
   "language": "python",
   "name": "python3"
  },
  "language_info": {
   "codemirror_mode": {
    "name": "ipython",
    "version": 3
   },
   "file_extension": ".py",
   "mimetype": "text/x-python",
   "name": "python",
   "nbconvert_exporter": "python",
   "pygments_lexer": "ipython3",
   "version": "3.7.9"
  }
 },
 "nbformat": 4,
 "nbformat_minor": 5
}
