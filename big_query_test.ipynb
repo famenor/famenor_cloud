{
 "cells": [
  {
   "cell_type": "code",
   "execution_count": 4,
   "id": "hourly-vitamin",
   "metadata": {},
   "outputs": [],
   "source": [
    "import os\n",
    "\n",
    "os.environ['GOOGLE_APPLICATION_CREDENTIALS'] = '/home/ec2-user/dsdemo.json'"
   ]
  },
  {
   "cell_type": "code",
   "execution_count": 5,
   "id": "behavioral-marijuana",
   "metadata": {},
   "outputs": [
    {
     "data": {
      "text/html": [
       "<div>\n",
       "<style scoped>\n",
       "    .dataframe tbody tr th:only-of-type {\n",
       "        vertical-align: middle;\n",
       "    }\n",
       "\n",
       "    .dataframe tbody tr th {\n",
       "        vertical-align: top;\n",
       "    }\n",
       "\n",
       "    .dataframe thead th {\n",
       "        text-align: right;\n",
       "    }\n",
       "</style>\n",
       "<table border=\"1\" class=\"dataframe\">\n",
       "  <thead>\n",
       "    <tr style=\"text-align: right;\">\n",
       "      <th></th>\n",
       "      <th>User_ID</th>\n",
       "      <th>Pred</th>\n",
       "      <th>time</th>\n",
       "    </tr>\n",
       "  </thead>\n",
       "  <tbody>\n",
       "    <tr>\n",
       "      <th>0</th>\n",
       "      <td>1114</td>\n",
       "      <td>0.539771</td>\n",
       "      <td>2021-04-20 17:22:13.345259</td>\n",
       "    </tr>\n",
       "    <tr>\n",
       "      <th>1</th>\n",
       "      <td>3812</td>\n",
       "      <td>0.539771</td>\n",
       "      <td>2021-04-20 17:22:13.345259</td>\n",
       "    </tr>\n",
       "    <tr>\n",
       "      <th>2</th>\n",
       "      <td>9774</td>\n",
       "      <td>0.025261</td>\n",
       "      <td>2021-04-20 17:22:13.345259</td>\n",
       "    </tr>\n",
       "    <tr>\n",
       "      <th>3</th>\n",
       "      <td>8323</td>\n",
       "      <td>0.171155</td>\n",
       "      <td>2021-04-20 17:22:13.345259</td>\n",
       "    </tr>\n",
       "    <tr>\n",
       "      <th>4</th>\n",
       "      <td>2114</td>\n",
       "      <td>0.454823</td>\n",
       "      <td>2021-04-20 17:22:13.345259</td>\n",
       "    </tr>\n",
       "  </tbody>\n",
       "</table>\n",
       "</div>"
      ],
      "text/plain": [
       "   User_ID      Pred                        time\n",
       "0     1114  0.539771  2021-04-20 17:22:13.345259\n",
       "1     3812  0.539771  2021-04-20 17:22:13.345259\n",
       "2     9774  0.025261  2021-04-20 17:22:13.345259\n",
       "3     8323  0.171155  2021-04-20 17:22:13.345259\n",
       "4     2114  0.454823  2021-04-20 17:22:13.345259"
      ]
     },
     "execution_count": 5,
     "metadata": {},
     "output_type": "execute_result"
    }
   ],
   "source": [
    "from google.cloud import bigquery\n",
    "client = bigquery.Client()\n",
    "\n",
    "sql = \"select * from dsp_demo.user_scores\"\n",
    "client.query(sql).to_dataframe().head()"
   ]
  },
  {
   "cell_type": "code",
   "execution_count": null,
   "id": "derived-cleaners",
   "metadata": {},
   "outputs": [],
   "source": []
  }
 ],
 "metadata": {
  "kernelspec": {
   "display_name": "Python 3",
   "language": "python",
   "name": "python3"
  },
  "language_info": {
   "codemirror_mode": {
    "name": "ipython",
    "version": 3
   },
   "file_extension": ".py",
   "mimetype": "text/x-python",
   "name": "python",
   "nbconvert_exporter": "python",
   "pygments_lexer": "ipython3",
   "version": "3.7.9"
  }
 },
 "nbformat": 4,
 "nbformat_minor": 5
}
